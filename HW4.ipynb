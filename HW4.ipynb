{
 "cells": [
  {
   "cell_type": "code",
   "execution_count": 7,
   "metadata": {},
   "outputs": [
    {
     "data": {
      "text/plain": [
       "(2.0, 3.0)"
      ]
     },
     "execution_count": 7,
     "metadata": {},
     "output_type": "execute_result"
    }
   ],
   "source": [
    "#HW4 PHYS 404\n",
    "from sympy import*\n",
    "from sympy.plotting import plot3d\n",
    "import numpy as np\n",
    "\n",
    "#Newtons method\n",
    "#Input: Matrix of Funcations and its Jacobian Matrix\n",
    "#Input: Variable name 1, 2, and the accpetable error\n",
    "def Newton_Method(F, J, x1, x2, eps):\n",
    "    F_value = F(x1,x2).astype(np.float64)\n",
    "    F_norm = np.linalg.norm(F_value)\n",
    "    counter = 0\n",
    "    \n",
    "    while (abs(F_norm) > eps and counter < 1000):\n",
    "        J_value = J(x1,x2).astype(np.float64)\n",
    "        delta = np.linalg.solve(J_value, -F_value)\n",
    "        x1 = float(x1 + delta[0])\n",
    "        x2 = float(x2 + delta[1])\n",
    "        F_value = F(x1,x2).astype(np.float64)\n",
    "        F_norm = np.linalg.norm(F_value)\n",
    "        counter += 1\n",
    "    \n",
    "    #If F_norm is greater than the maximum error report failed\n",
    "    if abs(F_norm) > eps:\n",
    "        return 'failed'\n",
    "    #Otherwise \n",
    "    return x1,x2\n",
    "\n",
    "#Main Portion of the program\n",
    "x1, x2 = symbols('x1, x2')\n",
    "#Number of equations\n",
    "numEqu = 2\n",
    "#Acceptable error\n",
    "eps = 10**(-14)\n",
    "f1 = x1*x1 + x1*x2 - 10.\n",
    "f2 = x2 + 3.*x1*x2*x2 - 57.\n",
    "\n",
    "x = [x1,x2]\n",
    "F = Matrix([[f1], [f2]])\n",
    "J = Matrix([[0,0], [0,0]])\n",
    "for i in range(numEqu):\n",
    "    for j in range(numEqu):\n",
    "        J[i,j] = diff(F[i],x[j])\n",
    "\n",
    "f = lambdify([x1,x2],F)\n",
    "j = lambdify([x1,x2],J)\n",
    "    \n",
    "Newton_Method(f, j, 1., 1., eps)"
   ]
  },
  {
   "cell_type": "code",
   "execution_count": null,
   "metadata": {
    "collapsed": true
   },
   "outputs": [],
   "source": []
  }
 ],
 "metadata": {
  "kernelspec": {
   "display_name": "Python 3",
   "language": "python",
   "name": "python3"
  },
  "language_info": {
   "codemirror_mode": {
    "name": "ipython",
    "version": 3
   },
   "file_extension": ".py",
   "mimetype": "text/x-python",
   "name": "python",
   "nbconvert_exporter": "python",
   "pygments_lexer": "ipython3",
   "version": "3.6.3"
  }
 },
 "nbformat": 4,
 "nbformat_minor": 2
}
