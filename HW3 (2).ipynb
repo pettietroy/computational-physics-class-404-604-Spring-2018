{
 "cells": [
  {
   "cell_type": "code",
   "execution_count": 3,
   "metadata": {
    "collapsed": true
   },
   "outputs": [],
   "source": [
    "#HW3. \n",
    "import numpy as np\n",
    "\n",
    "#The first method calculates the derivative using forward difference\n",
    "#Input: a function from the numpy library, a position x, and a value for closeness dx\n",
    "#Output: the value of that derivative at position x\n",
    "def derifw(y,x,dx):\n",
    "    return (y(x+dx)-y(x))/dx\n",
    "\n",
    "#The second method calculates the derivative using central difference\n",
    "#Input: a function from the numpy library, a position x, and a value for closeness dx\n",
    "#Output: the value of that derivative at position x\n",
    "def dericd(y,x,dx):\n",
    "    return (y(x+dx/2) - y(x-dx/2))/dx\n",
    "\n",
    "#The third method calculates the derivative is extrapolated difference\n",
    "#Input: a function from the numpy library, a position x, and a value for closeness dx\n",
    "#Output: the value of that derivative at position x\n",
    "def deried(y,x,dx):\n",
    "    return ((((y(x+dx/4) - y(x-dx/4))/dx)*8/3) - (dericd(y,x,dx)/3))\n"
   ]
  },
  {
   "cell_type": "code",
   "execution_count": 4,
   "metadata": {
    "collapsed": true
   },
   "outputs": [],
   "source": [
    "#Method to graph the error vs dx size using the three different algorithms \n",
    "#Input: A value to which feed the function\n",
    "#Output: None\n",
    "def graph_x(x):\n",
    "    #lists to hold our values\n",
    "    maxi = 16\n",
    "    dx_list = [0]*maxi\n",
    "    values_fwd = [0]*maxi\n",
    "    values_cen = [0]*maxi\n",
    "    values_ext = [0]*maxi\n",
    "    values_true = [0]*maxi\n",
    "    values_errorfwd = [0]*maxi\n",
    "    values_errorcen = [0]*maxi\n",
    "    values_errorext = [0]*maxi\n",
    "    holder = 5.0\n",
    "    best_dxfwd = 1.0\n",
    "    best_dxcen = 1.0\n",
    "    best_dxext = 1.0\n",
    "\n",
    "    #iterate to generate lists\n",
    "    for i in range(1,maxi):\n",
    "        dx = 10**(-i)\n",
    "        dx_list[maxi-i] = dx\n",
    "        #print(dx)\n",
    "        values_fwd[maxi-i] = derifw(y, x, dx)\n",
    "        values_cen[maxi-i] = dericd(y, x, dx)\n",
    "        values_ext[maxi-i] = deried(y, x, dx)\n",
    "        values_true[maxi-i] = -np.sin(x)\n",
    "        values_errorfwd[maxi-i] = abs(values_fwd[maxi-i] - values_true[maxi-i])\n",
    "        values_errorcen[maxi-i] = abs(values_cen[maxi-i] - values_true[maxi-i])\n",
    "        values_errorext[maxi-i] = abs(values_ext[maxi-i] - values_true[maxi-i])\n",
    "        \n",
    "    #calculate best dx to choose for forward algorithm\n",
    "    for i in range(1, maxi):\n",
    "        if((holder > values_errorfwd[i]) and (values_errorfwd[i] != 0)):\n",
    "            #print('yes')\n",
    "            holder = values_errorfwd[i]\n",
    "            best_dxfwd = 10**(-maxi+i)\n",
    "            \n",
    "    #calculate best dx to choose for central algorithm        \n",
    "    for i in range(1, maxi):\n",
    "        if((holder > values_errorcen[i]) and (values_errorcen[i] != 0)):\n",
    "            #print('yes')\n",
    "            holder = values_errorcen[i]\n",
    "            best_dxcen = 10**(-maxi+i)\n",
    "            \n",
    "    #calculate best dx to choose for extrapolated algorithm        \n",
    "    for i in range(1, maxi):\n",
    "        if((holder > values_errorext[i]) and (values_errorext[i] != 0)):\n",
    "            #print('yes')\n",
    "            holder = values_errorext[i]\n",
    "            best_dxext = 10**(-maxi+i)\n",
    "    \n",
    "    #print(dx_list)\n",
    "    #print(values_errorfwd)\n",
    "    #print(values_errorcen)\n",
    "    #print(values_errorext)  \n",
    "\n",
    "    #Print results from above lists\n",
    "    import matplotlib.pyplot as plt\n",
    "\n",
    "    plt.plot(dx_list, values_errorfwd, 'b-', lw=2) \n",
    "    plt.plot(dx_list, values_errorext, 'm-', lw=2) \n",
    "    plt.plot(dx_list, values_errorcen, 'g-', lw=2)\n",
    "    plt.xscale('log')\n",
    "    plt.yscale('log')\n",
    "    plt.xlabel('dx')\n",
    "    plt.ylabel('Error')\n",
    "    plt.show()\n",
    "    \n",
    "    if(best_dxfwd != 1):\n",
    "        print(\"OPTIMAL DX FORWARD:\", best_dxfwd)\n",
    "        \n",
    "    if(best_dxcen != 1):\n",
    "        print(\"OPTIMAL DX CENTRAL:\", best_dxcen)\n",
    "        \n",
    "    if(best_dxext != 1):\n",
    "        print(\"OPTIMAL DX EXTRAPOLATED:\", best_dxext)\n",
    "        \n",
    "    return"
   ]
  },
  {
   "cell_type": "code",
   "execution_count": 11,
   "metadata": {},
   "outputs": [
    {
     "name": "stdout",
     "output_type": "stream",
     "text": [
      "PART I\n",
      "Forward Difference: -0.907201555101\n",
      "Central Difference: -0.909293638091\n",
      "Extrapolated Difference: -0.909297426824\n",
      "Actual: -0.909297426826\n",
      "\n",
      "PART II\n"
     ]
    },
    {
     "data": {
      "image/png": "[encoded data removed]",
      "text/plain": [
       "<matplotlib.figure.Figure at 0x114edda58>"
      ]
     },
     "metadata": {},
     "output_type": "display_data"
    },
    {
     "name": "stdout",
     "output_type": "stream",
     "text": [
      "OPTIMAL DX FORWARD: 1e-08\n",
      "OPTIMAL DX CENTRAL: 1e-05\n",
      "OPTIMAL DX EXTRAPOLATED: 0.001\n",
      "\n",
      "PART III\n"
     ]
    },
    {
     "data": {
      "image/png": "[encoded data removed]",
      "text/plain": [
       "<matplotlib.figure.Figure at 0x114c8cf98>"
      ]
     },
     "metadata": {},
     "output_type": "display_data"
    },
    {
     "name": "stdout",
     "output_type": "stream",
     "text": [
      "OPTIMAL DX FORWARD: 1e-07\n",
      "\n",
      "Finished\n"
     ]
    }
   ],
   "source": [
    "#Main portion of program\n",
    "x = 2.\n",
    "dx = 0.01\n",
    "y = np.cos\n",
    "\n",
    "#Print derivate of y at x (Bullet 1)\n",
    "print(\"PART I\")\n",
    "print(\"Forward Difference:\", derifw(y,x,dx))\n",
    "print(\"Central Difference:\", dericd(y,x,dx))\n",
    "print(\"Extrapolated Difference:\", deried(y,x,dx))\n",
    "print(\"Actual:\", -np.sin(x))\n",
    "print(\"\")\n",
    "print(\"PART II\")\n",
    "graph_x(np.pi/4)\n",
    "#The reason there are no error graphes for the Central Difference and Extrapolated Difference about x = 0\n",
    "#Is because they rely on f'(3) and all other odd derivates of f. Since the odd derivatives of cos is sin\n",
    "#there are no errors about x = 0, pi, 2*pi,...,n*pi\n",
    "print(\"\")\n",
    "print(\"PART III\")\n",
    "graph_x(0)\n",
    "\n",
    "print(\"\")\n",
    "print(\"Finished\")\n"
   ]
  },
  {
   "cell_type": "code",
   "execution_count": null,
   "metadata": {
    "collapsed": true
   },
   "outputs": [],
   "source": []
  }
 ],
 "metadata": {
  "kernelspec": {
   "display_name": "Python 3",
   "language": "python",
   "name": "python3"
  },
  "language_info": {
   "codemirror_mode": {
    "name": "ipython",
    "version": 3
   },
   "file_extension": ".py",
   "mimetype": "text/x-python",
   "name": "python",
   "nbconvert_exporter": "python",
   "pygments_lexer": "ipython3",
   "version": "3.6.3"
  }
 },
 "nbformat": 4,
 "nbformat_minor": 2
}
