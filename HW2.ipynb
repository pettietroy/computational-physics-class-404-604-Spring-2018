{
 "cells": [
  {
   "cell_type": "code",
   "execution_count": 17,
   "metadata": {},
   "outputs": [
    {
     "name": "stdout",
     "output_type": "stream",
     "text": [
      "Finish\n"
     ]
    }
   ],
   "source": [
    "#PART 1 of HW2. Using the memorization algorithm to calculate the nth fib number.\n",
    "#Input: Integer n\n",
    "#Output: Integer table[n] which contains the nth fib number.\n",
    "def fib4(n, table): # Store the data we already calculated, linear space and time complexity, but still have the stack limit\n",
    "    if n == 0 or n == 1:\n",
    "        table[n]=n\n",
    "    \n",
    "    # if the value has not been calculated, calculate it \n",
    "    if table[n] is None:\n",
    "        table[n] = fib4(n-1, table) + fib4(n-2, table)\n",
    "    return table[n]\n",
    "\n",
    "#Main portion of program for part 1\n",
    "n=20 #Nth fib to calcualte\n",
    "table = [None]*(n+1) #Initialize table array\n",
    "store = [0] * (n+1) #Initialize storing array\n",
    "for x in range(2, n+1):  #For-loop to calculate all the fib numbers ranging from [2, n+1]\n",
    "    store[x] = (fib4(x, table)/ fib4(x-1, table)) #Keep table to graph\n",
    "    #print (store[x])\n",
    "print(\"Finish\")"
   ]
  },
  {
   "cell_type": "code",
   "execution_count": 19,
   "metadata": {},
   "outputs": [
    {
     "data": {
      "image/png": "[encoded data removed]",
      "text/plain": [
       "<matplotlib.figure.Figure at 0x10620e828>"
      ]
     },
     "metadata": {},
     "output_type": "display_data"
    }
   ],
   "source": [
    "#Final Graph for PART 1 (Fn/Fn-1 vs n)\n",
    "from pylab import * \n",
    "\n",
    "Xmin = 2; Xmax = n+1; Npoints = n+1\n",
    "DelX = (Xmax - Xmin)/Npoints\n",
    "x = arange(Xmin, Xmax, DelX)\n",
    "y = store\n",
    "\n",
    "xlabel('n');      ylabel('Fn/Fn-1');     title(' Fn/Fn-1 vs n')        # labels\n",
    "plot(x, y, '-', lw=2)                                 # dash means it is a line                     \n",
    "grid(True)                                                    # Form grid\n",
    "show() \n",
    "#print(\"Finish\")"
   ]
  },
  {
   "cell_type": "code",
   "execution_count": 20,
   "metadata": {},
   "outputs": [
    {
     "name": "stdout",
     "output_type": "stream",
     "text": [
      "Finish\n"
     ]
    }
   ],
   "source": [
    "#PART 2 of HW2.\n",
    "#Using the tabulation method\n",
    "#Input: integer n\n",
    "#Output: nth fib number\n",
    "def fib1(n):      \n",
    "    table=[0]*(n+1) #Initialize array table\n",
    "    table[1] = 1 #Set F0 and F1\n",
    "    \n",
    "    for i in range(2,n+1): \n",
    "        table[i]=table[i-1]+table[i-2]\n",
    "    return table[n]\n",
    "\n",
    "#Using the array multiplication method\n",
    "#Input: a 2x2 matrix namely arr and the nth fib number to be calculated\n",
    "#Output: an array which contains the nth fib number\n",
    "def arrpow(arr, n): # calculate 2x2 array to the nth power.\n",
    "    yarr=arr\n",
    "    if n<1:\n",
    "        print('n needs to be larger than 1')\n",
    "    if n==1:\n",
    "        return arr\n",
    "    yarr = arrpow(arr, n//2)\n",
    "    yarr = [[yarr[0][0]*yarr[0][0]+yarr[0][1]*yarr[1][0],yarr[0][0]*yarr[0][1]+yarr[0][1]*yarr[1][1]], # array multiply itself\n",
    "            [yarr[1][0]*yarr[0][0]+yarr[1][1]*yarr[1][0],yarr[1][0]*yarr[0][1]+yarr[1][1]*yarr[1][1]]]\n",
    "    if n%2:   # if n is an odd number, multiple another arr\n",
    "        yarr=[[yarr[0][0]*arr[0][0]+yarr[0][1]*arr[1][0],yarr[0][0]*arr[0][1]+yarr[0][1]*arr[1][1]],\n",
    "            [yarr[1][0]*arr[0][0]+yarr[1][1]*arr[1][0],yarr[1][0]*arr[0][1]+yarr[1][1]*arr[1][1]]]\n",
    "    return yarr\n",
    "\n",
    "def fib2(n):   # the fastest method\n",
    "    arr= [[1,1],[1,0]]\n",
    "    f=arrpow(arr,n-1)[0][0]  #0 0 component is Fn#\n",
    "    return f\n",
    "\n",
    "#Using the iterative method\n",
    "#Input: an integer n\n",
    "#Output: the nth fib number\n",
    "def fib3(n): \n",
    "    if(n <= 1):\n",
    "        return n\n",
    "    temp = 0 #Store temp values to iterate to correct fib number\n",
    "    fib_previous = 1 #Second Fib number\n",
    "    fib_next = 1 #Third Fib number\n",
    "    for x in range(2, n):\n",
    "        temp = fib_next \n",
    "        fib_next += fib_previous\n",
    "        fib_previous = temp\n",
    "    return fib_next\n",
    "        \n",
    "\n",
    "#Main portion of program for part 2\n",
    "import time \n",
    "power = 5 #Power to be applied\n",
    "power_one = power+1\n",
    "base = 10 #Base\n",
    "fib1_time = [0] * power_one #Stores computation time for tabulation method\n",
    "fib2_time = [0] * power_one #Stores computation time for array multiplication method\n",
    "fib3_time = [0] * power_one #Stores computation time for iterative method\n",
    "fib1_values = [0] * power_one #Stores values of fib for tabulation method\n",
    "fib2_values = [0] * power_one #Stores values of fib for tabulation method\n",
    "fib3_values = [0] * power_one #Stores values of fib for tabulation method\n",
    "for x in range(1,power_one):\n",
    "    #print(\"working\")\n",
    "    start_time = time.time() #Initialize time for algorithm fib1\n",
    "    fib1_values[0] = 1 #Initialize first slot in the index\n",
    "    fib1_time[0] = 0\n",
    "    fib1_values[x] = fib1(base**x)\n",
    "    fib1_time[x] = (time.time() - start_time)\n",
    "    \n",
    "for x in range(1,power_one):\n",
    "   # print(\"working2\")\n",
    "    start_time = time.time() #Initialize time for algorithm fib2\n",
    "    fib2_values[0] = 1 #Initialize slot in the index\n",
    "    fib2_time[0] = 0\n",
    "    fib2_values[x] = fib2(base**x)\n",
    "    fib2_time[x] = (time.time() - start_time)\n",
    "    \n",
    "for x in range(1, power_one):\n",
    "    #print(\"working3\")\n",
    "    start_time = time.time() #Initialize time for algorithm fib3\n",
    "    fib3_values[0] = 1 #Initialize slot in the index\n",
    "    fib3_time[0] = 0 \n",
    "    fib3_values[x] = fib3(base**x)\n",
    "    fib3_time[x] = (time.time() - start_time)\n",
    "\n",
    "ofile = open('HW2_Datafile', 'w')\n",
    "s1_values = ' '.join(str(x) for x in fib1_values)\n",
    "s1_time = ' '.join(str(x) for x in fib1_time)\n",
    "s2_values = ' '.join(str(x) for x in fib2_values)\n",
    "s2_time = ' '.join(str(x) for x in fib2_time)\n",
    "s3_values = ' '.join(str(x) for x in fib3_values)\n",
    "s3_time = ' '.join(str(x) for x in fib3_time)\n",
    "\n",
    "ofile.write(s1_values)\n",
    "ofile.write('\\n')\n",
    "ofile.write(s1_time)\n",
    "ofile.write('\\n')\n",
    "ofile.write(s2_values)\n",
    "ofile.write('\\n')\n",
    "ofile.write(s2_time)\n",
    "ofile.write('\\n')\n",
    "ofile.write(s3_values)\n",
    "ofile.write('\\n')\n",
    "ofile.write(s3_time)\n",
    "ofile.write('\\n')\n",
    "ofile.close()\n",
    "\n",
    "#print(fib1_time)\n",
    "#print(fib2_time)\n",
    "#print(fib3_time)\n",
    "#print(fib1_values)\n",
    "#print(fib2_values)\n",
    "#print(fib3_values)\n",
    "print(\"Finish\")"
   ]
  },
  {
   "cell_type": "code",
   "execution_count": 21,
   "metadata": {},
   "outputs": [
    {
     "name": "stdout",
     "output_type": "stream",
     "text": [
      "Finish\n"
     ]
    }
   ],
   "source": [
    "#Routine for reading from the previously written file\n",
    "#Begin by initializing new lists for both times and fib numbers\n",
    "fib1_outtime = [0] * power_one \n",
    "fib2_outtime = [0] * power_one\n",
    "fib3_outtime = [0] * power_one\n",
    "fib1_outvalue = [0] * power_one\n",
    "fib2_outvalue = [0] * power_one\n",
    "fib3_outvalue = [0] * power_one\n",
    "        \n",
    "my_int_list = [double(v) for v in open('HW2_Datafile').read().split()]\n",
    "fib_log = [0] * power_one\n",
    "\n",
    "for x in range(0, power_one):\n",
    "    fib_log[x] = x\n",
    "\n",
    "for x in range(0, power_one):\n",
    "    fib1_outvalue[x] = my_int_list[x]\n",
    "\n",
    "for x in range(power_one, 2*power_one):\n",
    "    fib1_outtime[x - power_one] = my_int_list[x]\n",
    "\n",
    "for x in range(2*power_one, 3*power_one):\n",
    "    fib2_outvalue[x - 2*power_one] = my_int_list[x]\n",
    "    \n",
    "for x in range(3*power_one, 4*power_one):\n",
    "    fib2_outtime[x - 3*power_one] = my_int_list[x]\n",
    "    \n",
    "for x in range(4*power_one, 5*power_one):\n",
    "    fib3_outvalue[x - 4*power_one] = my_int_list[x]\n",
    "    \n",
    "for x in range(5*power_one, 6*power_one):\n",
    "    fib3_outtime[x - 5*power_one] = my_int_list[x]\n",
    "\n",
    "#print(fib_log)\n",
    "#print(fib1_outvalue)\n",
    "#print(fib1_outtime)\n",
    "#print(fib2_outvalue)\n",
    "#print(fib2_outtime)\n",
    "#print(fib3_outvalue)\n",
    "#print(fib3_outtime)\n",
    "print(\"Finish\")"
   ]
  },
  {
   "cell_type": "code",
   "execution_count": 22,
   "metadata": {
    "scrolled": false
   },
   "outputs": [
    {
     "data": {
      "image/png": "[encoded data removed]",
      "text/plain": [
       "<matplotlib.figure.Figure at 0x10e8a3828>"
      ]
     },
     "metadata": {},
     "output_type": "display_data"
    }
   ],
   "source": [
    "#Final Graph for PART 2 (log(time) vs log(n)) for \n",
    "import matplotlib.pyplot as plt\n",
    "from math import sin, cos, pi\n",
    "\n",
    "npoints=50\n",
    "last_value = int(power_one)\n",
    "y1 = [0] * power_one\n",
    "y2 = [0] * power_one\n",
    "y3 = [0] * power_one\n",
    "\n",
    "for i in range (0, power_one):\n",
    "    if(i == 0):\n",
    "        y1[i] = 0\n",
    "    if(i > 0):\n",
    "        y1[i] = log(fib1_outtime[i])\n",
    "\n",
    "for i in range (0, power_one):\n",
    "    if(i == 0):\n",
    "        y2[i] = 0\n",
    "    if(i > 0):\n",
    "        y2[i] = log(fib2_outtime[i])\n",
    "\n",
    "for i in range (0, power_one):\n",
    "    if(i == 0):\n",
    "        y3[i] = 0\n",
    "    if(i > 0):\n",
    "        y3[i] = log(fib3_outtime[i])\n",
    "        \n",
    "x = fib_log\n",
    "plt.figure(figsize=(10, 5))\n",
    "plt.title('log(time) vs log(n)')\n",
    "plt.xlabel('log(n)')\n",
    "plt.ylabel('log(time)')\n",
    "plt.grid(True)\n",
    "plt.xlim(1,last_value - 1)\n",
    "plt.ylim(-15, 0)\n",
    " \n",
    "plt.plot(x, y1, color=\"red\", label=\"Tabulation Algorithm\")\n",
    "plt.plot(x, y2, color=\"blue\", label=\"Matrix Multiplication (Fast Elevator)\")\n",
    "plt.plot(x, y3, color=\"green\", label=\"Iterative Variable\")\n",
    "plt.legend()\n",
    "plt.show()"
   ]
  },
  {
   "cell_type": "markdown",
   "metadata": {
    "collapsed": true
   },
   "source": []
  }
 ],
 "metadata": {
  "kernelspec": {
   "display_name": "Python 3",
   "language": "python",
   "name": "python3"
  },
  "language_info": {
   "codemirror_mode": {
    "name": "ipython",
    "version": 3
   },
   "file_extension": ".py",
   "mimetype": "text/x-python",
   "name": "python",
   "nbconvert_exporter": "python",
   "pygments_lexer": "ipython3",
   "version": "3.6.3"
  }
 },
 "nbformat": 4,
 "nbformat_minor": 2
}
